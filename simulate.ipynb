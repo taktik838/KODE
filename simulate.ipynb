{
 "metadata": {
  "language_info": {
   "codemirror_mode": {
    "name": "ipython",
    "version": 3
   },
   "file_extension": ".py",
   "mimetype": "text/x-python",
   "name": "python",
   "nbconvert_exporter": "python",
   "pygments_lexer": "ipython3",
   "version": "3.7.3-final"
  },
  "orig_nbformat": 2,
  "kernelspec": {
   "name": "Python 3.7.3 64-bit",
   "display_name": "Python 3.7.3 64-bit",
   "metadata": {
    "interpreter": {
     "hash": "767d51c1340bd893661ea55ea3124f6de3c7a262a8b4abca0554b478b1e2ff90"
    }
   }
  }
 },
 "nbformat": 4,
 "nbformat_minor": 2,
 "cells": [
  {
   "cell_type": "code",
   "execution_count": 1,
   "metadata": {},
   "outputs": [],
   "source": [
    "import delivery_area"
   ]
  },
  {
   "cell_type": "code",
   "execution_count": 2,
   "metadata": {},
   "outputs": [
    {
     "output_type": "stream",
     "name": "stdout",
     "text": [
      "Now database have 77 areas\nAfter adding, database have 84 areas:\nid=1   points:  x   y\n                0   0\n                0   5\n                5   3\n                7   6\n                6   2\n\nid=2   points:  x   y\n                0   0\n                6   2\n                6   0\n\nid=3   points:  x   y\n                0   5\n                0   9\n                7   6\n                5   5\n\nid=4   points:  x   y\n                0   5\n                5   5\n                7   6\n                5   3\n\nid=5   points:  x   y\n                0   9\n                0  10\n               10  10\n                9   0\n                7   6\n\nid=6   points:  x   y\n                9   0\n               10  10\n               10   0\n\nid=7   points:  x   y\n                6   0\n                6   2\n                7   6\n                9   0\n\nid=8   points:  x   y\n                0   0\n                0   5\n                5   3\n                7   6\n                6   2\n\nid=9   points:  x   y\n                0   0\n                6   2\n                6   0\n\nid=10  points:  x   y\n                0   5\n                0   9\n                7   6\n                5   5\n\nid=11  points:  x   y\n                0   5\n                5   5\n                7   6\n                5   3\n\nid=12  points:  x   y\n                0   9\n                0  10\n               10  10\n                9   0\n                7   6\n\nid=13  points:  x   y\n                9   0\n               10  10\n               10   0\n\nid=14  points:  x   y\n                6   0\n                6   2\n                7   6\n                9   0\n\nid=15  points:  x   y\n                0   0\n                0   5\n                5   3\n                7   6\n                6   2\n\nid=16  points:  x   y\n                0   0\n                6   2\n                6   0\n\nid=17  points:  x   y\n                0   5\n                0   9\n                7   6\n                5   5\n\nid=18  points:  x   y\n                0   5\n                5   5\n                7   6\n                5   3\n\nid=19  points:  x   y\n                0   9\n                0  10\n               10  10\n                9   0\n                7   6\n\nid=20  points:  x   y\n                9   0\n               10  10\n               10   0\n\nid=21  points:  x   y\n                6   0\n                6   2\n                7   6\n                9   0\n\nid=22  points:  x   y\n                0   0\n                0   5\n                5   3\n                7   6\n                6   2\n\nid=23  points:  x   y\n                0   0\n                6   2\n                6   0\n\nid=24  points:  x   y\n                0   5\n                0   9\n                7   6\n                5   5\n\nid=25  points:  x   y\n                0   5\n                5   5\n                7   6\n                5   3\n\nid=26  points:  x   y\n                0   9\n                0  10\n               10  10\n                9   0\n                7   6\n\nid=27  points:  x   y\n                9   0\n               10  10\n               10   0\n\nid=28  points:  x   y\n                6   0\n                6   2\n                7   6\n                9   0\n\nid=29  points:  x   y\n                0   0\n                0   5\n                5   3\n                7   6\n                6   2\n\nid=30  points:  x   y\n                0   0\n                6   2\n                6   0\n\nid=31  points:  x   y\n                0   5\n                0   9\n                7   6\n                5   5\n\nid=32  points:  x   y\n                0   5\n                5   5\n                7   6\n                5   3\n\nid=33  points:  x   y\n                0   9\n                0  10\n               10  10\n                9   0\n                7   6\n\nid=34  points:  x   y\n                9   0\n               10  10\n               10   0\n\nid=35  points:  x   y\n                6   0\n                6   2\n                7   6\n                9   0\n\nid=36  points:  x   y\n                0   0\n                0   5\n                5   3\n                7   6\n                6   2\n\nid=37  points:  x   y\n                0   0\n                6   2\n                6   0\n\nid=38  points:  x   y\n                0   5\n                0   9\n                7   6\n                5   5\n\nid=39  points:  x   y\n                0   5\n                5   5\n                7   6\n                5   3\n\nid=40  points:  x   y\n                0   9\n                0  10\n               10  10\n                9   0\n                7   6\n\nid=41  points:  x   y\n                9   0\n               10  10\n               10   0\n\nid=42  points:  x   y\n                6   0\n                6   2\n                7   6\n                9   0\n\nid=43  points:  x   y\n                0   0\n                0   5\n                5   3\n                7   6\n                6   2\n\nid=44  points:  x   y\n                0   0\n                6   2\n                6   0\n\nid=45  points:  x   y\n                0   5\n                0   9\n                7   6\n                5   5\n\nid=46  points:  x   y\n                0   5\n                5   5\n                7   6\n                5   3\n\nid=47  points:  x   y\n                0   9\n                0  10\n               10  10\n                9   0\n                7   6\n\nid=48  points:  x   y\n                9   0\n               10  10\n               10   0\n\nid=49  points:  x   y\n                6   0\n                6   2\n                7   6\n                9   0\n\nid=50  points:  x   y\n                0   0\n                0   5\n                5   3\n                7   6\n                6   2\n\nid=51  points:  x   y\n                0   0\n                6   2\n                6   0\n\nid=52  points:  x   y\n                0   5\n                0   9\n                7   6\n                5   5\n\nid=53  points:  x   y\n                0   5\n                5   5\n                7   6\n                5   3\n\nid=54  points:  x   y\n                0   9\n                0  10\n               10  10\n                9   0\n                7   6\n\nid=55  points:  x   y\n                9   0\n               10  10\n               10   0\n\nid=56  points:  x   y\n                6   0\n                6   2\n                7   6\n                9   0\n\nid=57  points:  x   y\n                0   0\n                0   5\n                5   3\n                7   6\n                6   2\n\nid=58  points:  x   y\n                0   0\n                6   2\n                6   0\n\nid=59  points:  x   y\n                0   5\n                0   9\n                7   6\n                5   5\n\nid=60  points:  x   y\n                0   5\n                5   5\n                7   6\n                5   3\n\nid=61  points:  x   y\n                0   9\n                0  10\n               10  10\n                9   0\n                7   6\n\nid=62  points:  x   y\n                9   0\n               10  10\n               10   0\n\nid=63  points:  x   y\n                6   0\n                6   2\n                7   6\n                9   0\n\nid=64  points:  x   y\n                0   0\n                0   5\n                5   3\n                7   6\n                6   2\n\nid=65  points:  x   y\n                0   0\n                6   2\n                6   0\n\nid=66  points:  x   y\n                0   5\n                0   9\n                7   6\n                5   5\n\nid=67  points:  x   y\n                0   5\n                5   5\n                7   6\n                5   3\n\nid=68  points:  x   y\n                0   9\n                0  10\n               10  10\n                9   0\n                7   6\n\nid=69  points:  x   y\n                9   0\n               10  10\n               10   0\n\nid=70  points:  x   y\n                6   0\n                6   2\n                7   6\n                9   0\n\nid=71  points:  x   y\n                0   0\n                0   5\n                5   3\n                7   6\n                6   2\n\nid=72  points:  x   y\n                0   0\n                6   2\n                6   0\n\nid=73  points:  x   y\n                0   5\n                0   9\n                7   6\n                5   5\n\nid=74  points:  x   y\n                0   5\n                5   5\n                7   6\n                5   3\n\nid=75  points:  x   y\n                0   9\n                0  10\n               10  10\n                9   0\n                7   6\n\nid=76  points:  x   y\n                9   0\n               10  10\n               10   0\n\nid=77  points:  x   y\n                6   0\n                6   2\n                7   6\n                9   0\n\nid=78  points:  x   y\n                0   0\n                0   5\n                5   3\n                7   6\n                6   2\n\nid=79  points:  x   y\n                0   0\n                6   2\n                6   0\n\nid=80  points:  x   y\n                0   5\n                0   9\n                7   6\n                5   5\n\nid=81  points:  x   y\n                0   5\n                5   5\n                7   6\n                5   3\n\nid=82  points:  x   y\n                0   9\n                0  10\n               10  10\n                9   0\n                7   6\n\nid=83  points:  x   y\n                9   0\n               10  10\n               10   0\n\nid=84  points:  x   y\n                6   0\n                6   2\n                7   6\n                9   0\n\n"
     ]
    }
   ],
   "source": [
    "myAreas = [\n",
    "           [\n",
    "            [0, 0],\n",
    "            [0, 5],\n",
    "            [5, 3],\n",
    "            [7, 6],\n",
    "            [6, 2]\n",
    "           ],\n",
    "           [\n",
    "            [0, 0],\n",
    "            [6, 2],\n",
    "            [6, 0]\n",
    "           ],\n",
    "           [\n",
    "            [0, 5],\n",
    "            [0, 9],\n",
    "            [7, 6],\n",
    "            [5, 5]\n",
    "           ],\n",
    "           [\n",
    "            [0, 5],\n",
    "            [5, 5],\n",
    "            [7, 6],\n",
    "            [5, 3]\n",
    "           ],\n",
    "           [\n",
    "            [0, 9],\n",
    "            [0, 10],\n",
    "            [10, 10],\n",
    "            [9, 0],\n",
    "            [7, 6]\n",
    "           ],\n",
    "           [\n",
    "            [9, 0],\n",
    "            [10, 10],\n",
    "            [10, 0]\n",
    "           ],\n",
    "           [\n",
    "            [6, 0],\n",
    "            [6, 2],\n",
    "            [7, 6],\n",
    "            [9, 0]\n",
    "           ]\n",
    "]\n",
    "\n",
    "areas = delivery_area.get_all_areas()\n",
    "print(f'Now database have {len(areas)} areas')\n",
    "delivery_area.add_areas(myAreas)\n",
    "areas = delivery_area.get_all_areas()\n",
    "print(f'After adding, database have {len(areas)} areas:')\n",
    "for id_area, points in areas:\n",
    "    print(f'id={id_area:<3} points:  x   y')\n",
    "    for x, y in points:\n",
    "        print(f'{x:>17} {y:>3}')\n",
    "    print()"
   ]
  },
  {
   "cell_type": "code",
   "execution_count": null,
   "metadata": {},
   "outputs": [],
   "source": []
  }
 ]
}